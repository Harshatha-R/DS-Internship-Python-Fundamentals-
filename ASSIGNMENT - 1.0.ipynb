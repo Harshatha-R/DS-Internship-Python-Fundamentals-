{
 "cells": [
  {
   "cell_type": "code",
   "execution_count": 1,
   "id": "148e3332",
   "metadata": {},
   "outputs": [
    {
     "name": "stdout",
     "output_type": "stream",
     "text": [
      "Input number of rows: 2\n",
      "Input number of columns: 5\n",
      "[[0, 0, 0, 0, 0], [0, 1, 2, 3, 4]]\n"
     ]
    }
   ],
   "source": [
    "row_num = int(input(\"Input number of rows: \"))\n",
    "col_num = int(input(\"Input number of columns: \"))\n",
    "multi_list = [[0 for col in range(col_num)] for row in range(row_num)]\n",
    "for row in range(row_num):\n",
    "        for col in range(col_num):\n",
    "            multi_list[row][col] = row * col\n",
    "print(multi_list)"
   ]
  },
  {
   "cell_type": "code",
   "execution_count": 2,
   "id": "cd9c8061",
   "metadata": {},
   "outputs": [
    {
     "name": "stdout",
     "output_type": "stream",
     "text": [
      "Enter comma-separated words: apple, banana, cherry\n",
      " banana, cherry,apple\n"
     ]
    }
   ],
   "source": [
    "def sort_comma_separated_words(input_string):\n",
    "    words = input_string.split(',')\n",
    "    words.sort()\n",
    "    return ','.join(words)\n",
    "input_words = input(\"Enter comma-separated words: \")\n",
    "sorted_words = sort_comma_separated_words(input_words)\n",
    "print(sorted_words)\n"
   ]
  },
  {
   "cell_type": "code",
   "execution_count": 3,
   "id": "82d379a6",
   "metadata": {},
   "outputs": [
    {
     "name": "stdout",
     "output_type": "stream",
     "text": [
      "Enter words separated by spaces: tomato potato cabbage\n",
      "cabbage potato tomato\n"
     ]
    }
   ],
   "source": [
    "def process_words():\n",
    "    input_string = input(\"Enter words separated by spaces: \")\n",
    "    words_list = input_string.split()\n",
    "    unique_words = sorted(list(set(words_list)))\n",
    "    print(\" \".join(unique_words))\n",
    "process_words()"
   ]
  },
  {
   "cell_type": "code",
   "execution_count": 4,
   "id": "ba5dab35",
   "metadata": {},
   "outputs": [
    {
     "name": "stdout",
     "output_type": "stream",
     "text": [
      "2000,2002,2004,2006,2008,2020,2022,2024,2026,2028,2040,2042,2044,2046,2048,2060,2062,2064,2066,2068,2080,2082,2084,2086,2088,2200,2202,2204,2206,2208,2220,2222,2224,2226,2228,2240,2242,2244,2246,2248,2260,2262,2264,2266,2268,2280,2282,2284,2286,2288,2400,2402,2404,2406,2408,2420,2422,2424,2426,2428,2440,2442,2444,2446,2448,2460,2462,2464,2466,2468,2480,2482,2484,2486,2488,2600,2602,2604,2606,2608,2620,2622,2624,2626,2628,2640,2642,2644,2646,2648,2660,2662,2664,2666,2668,2680,2682,2684,2686,2688,2800,2802,2804,2806,2808,2820,2822,2824,2826,2828,2840,2842,2844,2846,2848,2860,2862,2864,2866,2868,2880,2882,2884,2886,2888\n"
     ]
    }
   ],
   "source": [
    "even_digit_numbers = []\n",
    "\n",
    "for num in range(1000, 3001):\n",
    "    num_str = str(num)\n",
    "    if all(int(digit) % 2 == 0 for digit in num_str):\n",
    "        even_digit_numbers.append(num_str)\n",
    "\n",
    "print(\",\".join(even_digit_numbers))"
   ]
  },
  {
   "cell_type": "code",
   "execution_count": 5,
   "id": "498f9ab9",
   "metadata": {},
   "outputs": [
    {
     "name": "stdout",
     "output_type": "stream",
     "text": [
      "aNc02bJD90\n",
      "LETTERS 6\n",
      "DIGITS 4\n"
     ]
    }
   ],
   "source": [
    "s = input()\n",
    "letters = sum(c.isalpha() for c in s)\n",
    "digits = sum(c.isdigit() for c in s)\n",
    "print(\"LETTERS\", letters)\n",
    "print(\"DIGITS\", digits)"
   ]
  },
  {
   "cell_type": "code",
   "execution_count": 6,
   "id": "e0f00b83",
   "metadata": {},
   "outputs": [
    {
     "name": "stdout",
     "output_type": "stream",
     "text": [
      "Enter a sentence: I am Harshatha\n",
      "UPPER CASE 2\n",
      "LOWER CASE 10\n"
     ]
    }
   ],
   "source": [
    "sentence = input(\"Enter a sentence: \")\n",
    "upper_case = 0\n",
    "lower_case = 0\n",
    "for char in sentence:\n",
    "    if char.isupper():\n",
    "        upper_case += 1\n",
    "    elif char.islower():\n",
    "        lower_case += 1\n",
    "print(\"UPPER CASE\", upper_case)\n",
    "print(\"LOWER CASE\", lower_case)"
   ]
  },
  {
   "cell_type": "code",
   "execution_count": 10,
   "id": "a86aa159",
   "metadata": {},
   "outputs": [
    {
     "name": "stdout",
     "output_type": "stream",
     "text": [
      "Enter transactions (comma separated, e.g., D 300, W 200): D 300, D 300, W 200, D 100\n",
      "500\n"
     ]
    }
   ],
   "source": [
    "input_data = input(\"Enter transactions (comma separated, e.g., D 300, W 200): \")\n",
    "transactions = input_data.split(',')\n",
    "net_amount = 0\n",
    "\n",
    "for txn in transactions:\n",
    "    txn = txn.strip()\n",
    "    if not txn:  \n",
    "        continue\n",
    "    type_, amount = txn.split()\n",
    "    amount = int(amount)\n",
    "    if type_.upper() == 'D':\n",
    "        net_amount += amount\n",
    "    elif type_.upper() == 'W':\n",
    "        net_amount -= amount\n",
    "\n",
    "print(net_amount)\n",
    "\n"
   ]
  },
  {
   "cell_type": "code",
   "execution_count": 11,
   "id": "2b41e36b",
   "metadata": {},
   "outputs": [
    {
     "name": "stdout",
     "output_type": "stream",
     "text": [
      "Enter comma-separated passwords to validate: ABd1234@1,a F1#,2w3E*,2We3345\n",
      "ABd1234@1\n"
     ]
    }
   ],
   "source": [
    "import re\n",
    "\n",
    "input_data = input(\"Enter comma-separated passwords to validate: \")\n",
    "passwords = input_data.split(',')\n",
    "valid_passwords = []\n",
    "\n",
    "for password in passwords:\n",
    "    password = password.strip()  \n",
    "    if 6 <= len(password) <= 12:\n",
    "        if (re.search(\"[a-z]\", password) and\n",
    "            re.search(\"[A-Z]\", password) and\n",
    "            re.search(\"[0-9]\", password) and\n",
    "            re.search(\"[$#@]\", password) and\n",
    "            not re.search(r\"\\s\", password)):  \n",
    "            valid_passwords.append(password)\n",
    "\n",
    "print(\",\".join(valid_passwords))"
   ]
  },
  {
   "cell_type": "code",
   "execution_count": 14,
   "id": "16025b46",
   "metadata": {},
   "outputs": [
    {
     "name": "stdout",
     "output_type": "stream",
     "text": [
      "Enter name, age, height tuples (type 'done' to finish):\n",
      "Tom,19,80\n",
      "John,20,90\n",
      "Jony,17,91\n",
      "done\n",
      "[('John', '20', '90'), ('Jony', '17', '91'), ('Tom', '19', '80')]\n"
     ]
    }
   ],
   "source": [
    "records = []\n",
    "print(\"Enter name, age, height tuples (type 'done' to finish):\")\n",
    "\n",
    "while True:\n",
    "    line = input()\n",
    "    if line.lower() == 'done':\n",
    "        break\n",
    "    parts = tuple(line.split(\",\"))\n",
    "    if len(parts) == 3:\n",
    "        records.append(parts)\n",
    "\n",
    "records.sort(key=lambda x: (x[0], int(x[1]), int(x[2])))\n",
    "\n",
    "print(records)"
   ]
  },
  {
   "cell_type": "code",
   "execution_count": 15,
   "id": "5116d1e7",
   "metadata": {},
   "outputs": [
    {
     "name": "stdout",
     "output_type": "stream",
     "text": [
      "Enter movement commands (e.g., UP 5,DOWN 3,LEFT 3,RIGHT 2): UP 5,DOWN 3,LEFT 3,RIGHT 2\n",
      "2\n"
     ]
    }
   ],
   "source": [
    "import math\n",
    "\n",
    "input_data = input(\"Enter movement commands (e.g., UP 5,DOWN 3,LEFT 3,RIGHT 2): \")\n",
    "\n",
    "commands = input_data.split(',')\n",
    "\n",
    "x = 0\n",
    "y = 0\n",
    "\n",
    "for command in commands:\n",
    "    command = command.strip()  \n",
    "    if not command:\n",
    "        continue\n",
    "    direction, steps = command.split()\n",
    "    steps = int(steps)\n",
    "\n",
    "    if direction.upper() == \"UP\":\n",
    "        y += steps\n",
    "    elif direction.upper() == \"DOWN\":\n",
    "        y -= steps\n",
    "    elif direction.upper() == \"LEFT\":\n",
    "        x -= steps\n",
    "    elif direction.upper() == \"RIGHT\":\n",
    "        x += steps\n",
    "\n",
    "distance = math.sqrt(x**2 + y**2)\n",
    "\n",
    "print(round(distance))\n"
   ]
  },
  {
   "cell_type": "code",
   "execution_count": 16,
   "id": "c68bbf1b",
   "metadata": {},
   "outputs": [
    {
     "name": "stdout",
     "output_type": "stream",
     "text": [
      "Enter a string: Aabbcdeefffaabbcc\n",
      "a2b2c1d1e2f3a2b2c2\n"
     ]
    }
   ],
   "source": [
    "input_str = input(\"Enter a string: \")\n",
    "input_str = input_str.lower() \n",
    "result = \"\"\n",
    "i = 0\n",
    "\n",
    "while i < len(input_str):\n",
    "    count = 1\n",
    "    while i + 1 < len(input_str) and input_str[i] == input_str[i + 1]:\n",
    "        count += 1\n",
    "        i += 1\n",
    "    result += input_str[i] + str(count)\n",
    "    i += 1\n",
    "\n",
    "print(result)"
   ]
  },
  {
   "cell_type": "code",
   "execution_count": 17,
   "id": "e6b665f4",
   "metadata": {},
   "outputs": [
    {
     "name": "stdout",
     "output_type": "stream",
     "text": [
      "Enter an alphanumeric string: a55b234cd9f63de54x3m\n",
      "b,c\n",
      "d,f\n",
      "f,d\n",
      "e,x\n"
     ]
    }
   ],
   "source": [
    "import re\n",
    "\n",
    "def find_pairs_with_sum_9(s):\n",
    "    result = []\n",
    "    i = 0\n",
    "    while i < len(s):\n",
    "        if s[i].isalpha():\n",
    "            char1 = s[i]\n",
    "            j = i + 1\n",
    "            num_str = \"\"\n",
    "            while j < len(s) and not s[j].isalpha():\n",
    "                num_str += s[j]\n",
    "                j += 1\n",
    "            if j < len(s) and s[j].isalpha():\n",
    "                char2 = s[j]\n",
    "                if num_str and sum(int(d) for d in num_str) == 9:\n",
    "                    result.append(f\"{char1},{char2}\")\n",
    "            i = j  \n",
    "        else:\n",
    "            i += 1\n",
    "    return result\n",
    "\n",
    "input_str = input(\"Enter an alphanumeric string: \")\n",
    "pairs = find_pairs_with_sum_9(input_str)\n",
    "\n",
    "for pair in pairs:\n",
    "    print(pair)\n"
   ]
  },
  {
   "cell_type": "code",
   "execution_count": 18,
   "id": "65334450",
   "metadata": {},
   "outputs": [
    {
     "name": "stdout",
     "output_type": "stream",
     "text": [
      "Enter a binary number: 100101\n",
      "3\n"
     ]
    }
   ],
   "source": [
    "binary_str = input(\"Enter a binary number: \")\n",
    "count_ones = binary_str.count('1')  \n",
    "pairs = count_ones * (count_ones - 1) // 2  \n",
    "print(pairs)"
   ]
  },
  {
   "cell_type": "code",
   "execution_count": 19,
   "id": "e3c4b75f",
   "metadata": {},
   "outputs": [
    {
     "name": "stdout",
     "output_type": "stream",
     "text": [
      "Enter valid currency (comma-separated): 1,2,5,10,20,50,100,200,500,2000\n",
      "Enter the money amount: 210\n",
      "200-1\n",
      "10-1\n"
     ]
    }
   ],
   "source": [
    "def find_minimum_denominations(valid_currency, money):\n",
    "    valid_currency.sort(reverse=True)\n",
    "    result = {}\n",
    "    \n",
    "    for denom in valid_currency:\n",
    "        if money >= denom:\n",
    "            count = money // denom\n",
    "            result[denom] = count\n",
    "            money -= denom * count\n",
    "    \n",
    "    for denom in result:\n",
    "        print(f\"{denom}-{result[denom]}\")\n",
    "\n",
    "valid_currency = list(map(int, input(\"Enter valid currency (comma-separated): \").split(',')))\n",
    "money = int(input(\"Enter the money amount: \"))\n",
    "\n",
    "find_minimum_denominations(valid_currency, money)\n"
   ]
  },
  {
   "cell_type": "code",
   "execution_count": 20,
   "id": "eb75a94c",
   "metadata": {},
   "outputs": [
    {
     "name": "stdout",
     "output_type": "stream",
     "text": [
      "Enter total number of stops (n): 12\n",
      "Enter number of stops to make (m): 4\n",
      "Output: 126\n"
     ]
    }
   ],
   "source": [
    "import math\n",
    "\n",
    "def non_consecutive_stop_ways(n, m):\n",
    "    if m > n:\n",
    "        return 0\n",
    "    return math.comb(n - m + 1, m)\n",
    "\n",
    "n = int(input(\"Enter total number of stops (n): \"))\n",
    "m = int(input(\"Enter number of stops to make (m): \"))\n",
    "\n",
    "print(\"Output:\", non_consecutive_stop_ways(n, m))\n"
   ]
  },
  {
   "cell_type": "code",
   "execution_count": null,
   "id": "ede3b70d",
   "metadata": {},
   "outputs": [
    {
     "name": "stdout",
     "output_type": "stream",
     "text": [
      "Game: Stone Paper Scissor\n",
      "Instructions: First to reach 5 points wins.\n",
      "\n",
      "Round 1:\n",
      "Player A: stone\n",
      "Player B: scissor\n",
      "Result: Player A wins\n",
      "Score -> Player A: 1 | Player B: 0\n",
      "------------------------------\n",
      "Round 2:\n",
      "Player A: paper\n",
      "Player B: paper\n",
      "Result: DRAW\n",
      "Score -> Player A: 1 | Player B: 0\n",
      "------------------------------\n",
      "Round 3:\n"
     ]
    }
   ],
   "source": [
    "def determine_winner(a, b):\n",
    "    a = a.lower()\n",
    "    b = b.lower()\n",
    "    if a == b:\n",
    "        return \"DRAW\"\n",
    "    elif (a == \"stone\" and b == \"scissor\") or \\\n",
    "         (a == \"paper\" and b == \"stone\") or \\\n",
    "         (a == \"scissor\" and b == \"paper\"):\n",
    "        return \"Player A wins\"\n",
    "    else:\n",
    "        return \"Player B wins\"\n",
    "\n",
    "score_a = 0\n",
    "score_b = 0\n",
    "round_num = 1\n",
    "\n",
    "print(\"Game: Stone Paper Scissor\")\n",
    "print(\"Instructions: First to reach 5 points wins.\\n\")\n",
    "\n",
    "while score_a < 5 and score_b < 5:\n",
    "    print(f\"Round {round_num}:\")\n",
    "    move_a = input(\"Player A: \").strip()\n",
    "    move_b = input(\"Player B: \").strip()\n",
    "\n",
    "    result = determine_winner(move_a, move_b)\n",
    "    \n",
    "    if result == \"Player A wins\":\n",
    "        score_a += 1\n",
    "    elif result == \"Player B wins\":\n",
    "        score_b += 1\n",
    "\n",
    "    print(f\"Result: {result}\")\n",
    "    print(f\"Score -> Player A: {score_a} | Player B: {score_b}\")\n",
    "    print(\"-\" * 30)\n",
    "    round_num += 1\n",
    "\n",
    "if score_a == 5:\n",
    "    print(\"Player A is the WINNER!\")\n",
    "else:\n",
    "    print(\"Player B is the WINNER!\")\n"
   ]
  },
  {
   "cell_type": "code",
   "execution_count": null,
   "id": "5f7332e1",
   "metadata": {},
   "outputs": [],
   "source": [
    "import re\n",
    "\n",
    "def validate_email(email):\n",
    "    \n",
    "    if email.count('@') != 1:\n",
    "        return \"Invalid: Email must contain exactly one '@' symbol\"\n",
    "\n",
    "    \n",
    "    pattern = r'^[a-z0-9._]+@[a-z0-9]+\\.[a-z]{2,}$'\n",
    "    if not re.match(pattern, email):\n",
    "        return \"Invalid: Email contains invalid characters or format\"\n",
    "\n",
    "    return \"Valid Email\"\n",
    "\n",
    "\n",
    "email_input = input(\"Enter an email to validate: \").strip()\n",
    "print(validate_email(email_input))"
   ]
  },
  {
   "cell_type": "code",
   "execution_count": null,
   "id": "733b01b9",
   "metadata": {},
   "outputs": [],
   "source": []
  }
 ],
 "metadata": {
  "kernelspec": {
   "display_name": "Python 3 (ipykernel)",
   "language": "python",
   "name": "python3"
  },
  "language_info": {
   "codemirror_mode": {
    "name": "ipython",
    "version": 3
   },
   "file_extension": ".py",
   "mimetype": "text/x-python",
   "name": "python",
   "nbconvert_exporter": "python",
   "pygments_lexer": "ipython3",
   "version": "3.11.5"
  }
 },
 "nbformat": 4,
 "nbformat_minor": 5
}
