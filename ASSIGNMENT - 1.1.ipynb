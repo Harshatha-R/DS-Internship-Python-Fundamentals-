{
 "cells": [
  {
   "cell_type": "code",
   "execution_count": 1,
   "id": "fb4d4a90",
   "metadata": {},
   "outputs": [
    {
     "name": "stdout",
     "output_type": "stream",
     "text": [
      "Enter an email to validate: abc@xyz.com\n",
      "Valid Email\n"
     ]
    }
   ],
   "source": [
    "import re\n",
    "\n",
    "def validate_email(email):\n",
    "    \n",
    "    if email.count('@') != 1:\n",
    "        return \"Invalid: Email must contain exactly one '@' symbol\"\n",
    "\n",
    "    \n",
    "    pattern = r'^[a-z0-9._]+@[a-z0-9]+\\.[a-z]{2,}$'\n",
    "    if not re.match(pattern, email):\n",
    "        return \"Invalid: Email contains invalid characters or format\"\n",
    "\n",
    "    return \"Valid Email\"\n",
    "\n",
    "\n",
    "email_input = input(\"Enter an email to validate: \").strip()\n",
    "print(validate_email(email_input))"
   ]
  },
  {
   "cell_type": "code",
   "execution_count": 2,
   "id": "9d7eb1f6",
   "metadata": {},
   "outputs": [
    {
     "name": "stdout",
     "output_type": "stream",
     "text": [
      "Enter rows: 5\n",
      "1\n",
      "2 * 3\n",
      "4 * 5 * 6\n",
      "7 * 8 * 9 * 10\n",
      "11 * 12 * 13 * 14 * 15\n"
     ]
    }
   ],
   "source": [
    "n = int(input(\"Enter rows: \"))\n",
    "num = 1\n",
    "for i in range(1, n + 1):\n",
    "    row = []\n",
    "    for j in range(i):\n",
    "        row.append(str(num))\n",
    "        num += 1\n",
    "    print(\" * \".join(row))"
   ]
  },
  {
   "cell_type": "code",
   "execution_count": 3,
   "id": "67c20548",
   "metadata": {},
   "outputs": [
    {
     "name": "stdout",
     "output_type": "stream",
     "text": [
      "Enter rows: 8\n",
      "       * \n",
      "      * * \n",
      "     * * * \n",
      "    * * * * \n",
      "   * * * * * \n",
      "  * * * * * * \n",
      " * * * * * * * \n",
      "* * * * * * * * \n",
      " * * * * * * * \n",
      "  * * * * * * \n",
      "   * * * * * \n",
      "    * * * * \n",
      "     * * * \n",
      "      * * \n",
      "       * \n"
     ]
    }
   ],
   "source": [
    "n = int(input(\"Enter rows: \"))\n",
    "# Top half\n",
    "for i in range(1, n + 1):\n",
    "    print(\" \" * (n - i) + \"* \" * i)\n",
    "# Bottom half\n",
    "for i in range(n - 1, 0, -1):\n",
    "    print(\" \" * (n - i) + \"* \" * i)"
   ]
  },
  {
   "cell_type": "code",
   "execution_count": 4,
   "id": "d3bccef5",
   "metadata": {},
   "outputs": [
    {
     "name": "stdout",
     "output_type": "stream",
     "text": [
      "Enter rows: 6\n",
      "1\n",
      "2 * 3\n",
      "4 * 5 * 6\n",
      "7 * 8 * 9 * 10\n",
      "11 * 12 * 13 * 14 * 15\n",
      "16 * 17 * 18 * 19 * 20 * 21\n",
      "11 * 12 * 13 * 14 * 15\n",
      "7 * 8 * 9 * 10\n",
      "4 * 5 * 6\n",
      "2 * 3\n",
      "1\n"
     ]
    }
   ],
   "source": [
    "n = int(input(\"Enter rows: \"))\n",
    "arr = []\n",
    "num = 1\n",
    "for i in range(1, n + 1):\n",
    "    row = []\n",
    "    for j in range(i):\n",
    "        row.append(str(num))\n",
    "        num += 1\n",
    "    arr.append(\" * \".join(row))\n",
    "\n",
    "for row in arr:\n",
    "    print(row)\n",
    "\n",
    "for row in reversed(arr[:-1]):\n",
    "    print(row)"
   ]
  },
  {
   "cell_type": "code",
   "execution_count": 5,
   "id": "4188d4df",
   "metadata": {},
   "outputs": [
    {
     "name": "stdout",
     "output_type": "stream",
     "text": [
      "Enter rows (7 recommended): 14\n",
      " *** \n",
      " * \n",
      " * \n",
      " * *** \n",
      " *   * \n",
      " *   * \n",
      " *   * \n",
      " *   * \n",
      " *   * \n",
      " *   * \n",
      " *   * \n",
      " *   * \n",
      " *   * \n",
      " *** \n"
     ]
    }
   ],
   "source": [
    "n = int(input(\"Enter rows (7 recommended): \"))\n",
    "for i in range(n):\n",
    "    if i == 0:\n",
    "        print(\" *** \")\n",
    "    elif i == 3:\n",
    "        print(\" * *** \")\n",
    "    elif i == n - 1:\n",
    "        print(\" *** \")\n",
    "    elif i > 3:\n",
    "        print(\" *   * \")\n",
    "    else:\n",
    "        print(\" * \")"
   ]
  },
  {
   "cell_type": "code",
   "execution_count": 6,
   "id": "ce6b48b3",
   "metadata": {},
   "outputs": [
    {
     "name": "stdout",
     "output_type": "stream",
     "text": [
      "Enter odd row count: 3\n",
      "1 1 1\n",
      "0 1 0\n",
      "1 1 1\n"
     ]
    }
   ],
   "source": [
    "n = int(input(\"Enter odd row count: \"))\n",
    "for i in range(n):\n",
    "    row = []\n",
    "    for j in range(n):\n",
    "        if i == 0 or i == n - 1 or j == n // 2:\n",
    "            row.append(\"1\")\n",
    "        else:\n",
    "            row.append(\"0\")\n",
    "    print(\" \".join(row))"
   ]
  },
  {
   "cell_type": "code",
   "execution_count": 7,
   "id": "f46a5335",
   "metadata": {},
   "outputs": [
    {
     "name": "stdout",
     "output_type": "stream",
     "text": [
      "Enter case (1 for left, 2 for right): 1\n",
      "Enter string (e.g., happy): 2\n",
      "Enter number of rotations: 3\n",
      "2\n",
      "2\n",
      "2\n"
     ]
    }
   ],
   "source": [
    "def cyclic_rotate(case_type, s, times):\n",
    "    s = list(s)  \n",
    "    for _ in range(times):\n",
    "        if case_type == 1:  \n",
    "            first = s.pop(0)\n",
    "            s.append(first)\n",
    "        elif case_type == 2: \n",
    "            last = s.pop()\n",
    "            s.insert(0, last)\n",
    "        print(\"\".join(s))  \n",
    "\n",
    "case = int(input(\"Enter case (1 for left, 2 for right): \"))\n",
    "string_input = input(\"Enter string (e.g., happy): \").strip().lower()\n",
    "rotations = int(input(\"Enter number of rotations: \"))\n",
    "\n",
    "cyclic_rotate(case, string_input, rotations)\n"
   ]
  },
  {
   "cell_type": "code",
   "execution_count": 8,
   "id": "b5bb1496",
   "metadata": {},
   "outputs": [
    {
     "name": "stdout",
     "output_type": "stream",
     "text": [
      "Enter your pathology test values:\n",
      "Sugar level: 450\n",
      "Blood pressure: 120\n",
      "Heartbeat rate: 70\n",
      "weight: 89\n",
      "fat percentage: 33\n",
      "\n",
      "--- Patient Input ---\n",
      "Sugar level: 450\n",
      "Blood pressure: 120\n",
      "Heartbeat rate: 70\n",
      "weight: 89\n",
      "fat percentage: 33\n",
      "\n",
      "--- Differences and Warnings ---\n",
      "WARNING: Sugar level differs from ideal value.\n",
      "WARNING: Blood pressure differs from ideal value.\n",
      "WARNING: Heartbeat rate differs from ideal value.\n",
      "WARNING: weight differs from ideal value.\n",
      "WARNING: fat percentage differs from ideal value.\n",
      "\n",
      "Difference Report:\n",
      "{'Sugar level': 435, 'Blood pressure': 88, 'Heartbeat rate': -1, 'weight': 24, 'fat percentage': 23}\n",
      "\n",
      "--- Detailed Explanation ---\n",
      "Sugar level 435\n",
      "The sugar level is 435 more than the ideal value\n",
      "\n",
      "Blood pressure 88\n",
      "The blood pressure is 88 more than the ideal value\n",
      "\n",
      "Heartbeat rate -1\n",
      "The heartbeat rate is 1 less than the ideal value\n",
      "\n",
      "weight 24\n",
      "The weight is 24 more than the ideal value\n",
      "\n",
      "fat percentage 23\n",
      "The fat percentage is 23 more than the ideal value\n",
      "\n"
     ]
    }
   ],
   "source": [
    "healthy_data = {\n",
    "    \"Sugar level\": 15,\n",
    "    \"Blood pressure\": 32,\n",
    "    \"Heartbeat rate\": 71,\n",
    "    \"weight\": 65,\n",
    "    \"fat percentage\": 10\n",
    "}\n",
    "\n",
    "patient_data = {}\n",
    "print(\"Enter your pathology test values:\")\n",
    "\n",
    "# Collect patient data\n",
    "for key in healthy_data:\n",
    "    value = int(input(f\"{key}: \"))\n",
    "    patient_data[key] = value\n",
    "\n",
    "print(\"\\n--- Patient Input ---\")\n",
    "for k, v in patient_data.items():\n",
    "    print(f\"{k}: {v}\")\n",
    "\n",
    "difference_report = {}\n",
    "print(\"\\n--- Differences and Warnings ---\")\n",
    "\n",
    "for key in healthy_data:\n",
    "    diff = patient_data[key] - healthy_data[key]\n",
    "    difference_report[key] = diff\n",
    "    if diff != 0:\n",
    "        print(f\"WARNING: {key} differs from ideal value.\")\n",
    "\n",
    "print(\"\\nDifference Report:\")\n",
    "print(difference_report)\n",
    "\n",
    "print(\"\\n--- Detailed Explanation ---\")\n",
    "for key, diff in difference_report.items():\n",
    "    if diff < 0:\n",
    "        print(f\"{key} {diff}\")\n",
    "        print(f\"The {key.lower()} is {-diff} less than the ideal value\\n\")\n",
    "    elif diff > 0:\n",
    "        print(f\"{key} {diff}\")\n",
    "        print(f\"The {key.lower()} is {diff} more than the ideal value\\n\")\n",
    "    else:\n",
    "        print(f\"{key} is ideal.\\n\")\n"
   ]
  },
  {
   "cell_type": "code",
   "execution_count": 9,
   "id": "0a9706c7",
   "metadata": {},
   "outputs": [
    {
     "name": "stdout",
     "output_type": "stream",
     "text": [
      "Enter a number: 37\n",
      "Not an Armstrong number\n"
     ]
    }
   ],
   "source": [
    "def is_armstrong(number):\n",
    "    num_str = str(number)  \n",
    "    power = len(num_str)  \n",
    "    total = sum(int(digit) ** power for digit in num_str)  \n",
    "    return total == number\n",
    "\n",
    "num = int(input(\"Enter a number: \"))\n",
    "if is_armstrong(num):\n",
    "    print(\"Armstrong number\")\n",
    "else:\n",
    "    print(\"Not an Armstrong number\")\n"
   ]
  },
  {
   "cell_type": "code",
   "execution_count": 11,
   "id": "84da03c5",
   "metadata": {},
   "outputs": [
    {
     "name": "stdout",
     "output_type": "stream",
     "text": [
      "Enter a decimal number: 13\n",
      "1101\n"
     ]
    }
   ],
   "source": [
    "def decimal_to_binary(n):\n",
    "    if n == 0:\n",
    "        return \"0\"\n",
    "    binary = \"\"\n",
    "    while n > 0:\n",
    "        remainder = n % 2\n",
    "        binary = str(remainder) + binary  \n",
    "        n = n // 2\n",
    "    return binary\n",
    "\n",
    "num = int(input(\"Enter a decimal number: \"))\n",
    "binary_result = decimal_to_binary(num)\n",
    "print(binary_result)\n"
   ]
  },
  {
   "cell_type": "code",
   "execution_count": 12,
   "id": "ee4ab5a5",
   "metadata": {},
   "outputs": [
    {
     "name": "stdout",
     "output_type": "stream",
     "text": [
      "Enter a number: 86\n",
      "Not a perfect number\n"
     ]
    }
   ],
   "source": [
    "def is_perfect_number(n):\n",
    "    if n <= 1:\n",
    "        return False\n",
    "    sum_divisors = 0\n",
    "    for i in range(1, n):\n",
    "        if n % i == 0:\n",
    "            sum_divisors += i\n",
    "    return sum_divisors == n\n",
    "\n",
    "num = int(input(\"Enter a number: \"))\n",
    "if is_perfect_number(num):\n",
    "    print(\"Perfect number\")\n",
    "else:\n",
    "    print(\"Not a perfect number\")\n"
   ]
  },
  {
   "cell_type": "code",
   "execution_count": null,
   "id": "32cf7dd0",
   "metadata": {},
   "outputs": [],
   "source": []
  }
 ],
 "metadata": {
  "kernelspec": {
   "display_name": "Python 3 (ipykernel)",
   "language": "python",
   "name": "python3"
  },
  "language_info": {
   "codemirror_mode": {
    "name": "ipython",
    "version": 3
   },
   "file_extension": ".py",
   "mimetype": "text/x-python",
   "name": "python",
   "nbconvert_exporter": "python",
   "pygments_lexer": "ipython3",
   "version": "3.11.5"
  }
 },
 "nbformat": 4,
 "nbformat_minor": 5
}
